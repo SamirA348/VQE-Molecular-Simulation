{
  "cells": [
    {
      "cell_type": "markdown",
      "metadata": {
        "id": "mbZXQ3rA3NwL"
      },
      "source": [
        "# **Variational Algorithms for molecule simulations**\n",
        "---\n",
        "\n",
        "### **Description**\n",
        "In this lab, we will see how to use VQE to simulate different molecules\n",
        "\n",
        "<br>\n",
        "\n",
        "### **Learning Objectives**\n",
        "By the end of this lab, we will:\n",
        "* Recognize what it means to simulate molecules.\n",
        "\n",
        "* Learn how to implement VQE using Cirq to simulate molecules\n",
        "\n",
        "**Before starting, run the code below to import all necessary functions and libraries.**\n"
      ]
    },
    {
      "cell_type": "code",
      "execution_count": 2,
      "metadata": {
        "colab": {
          "base_uri": "https://localhost:8080/"
        },
        "collapsed": true,
        "id": "P4PDqB2qSFcZ",
        "outputId": "565f7410-4953-4252-c92d-eacf9b6e8364"
      },
      "outputs": [
        {
          "output_type": "stream",
          "name": "stdout",
          "text": [
            "\u001b[2K   \u001b[90m━━━━━━━━━━━━━━━━━━━━━━━━━━━━━━━━━━━━━━━━\u001b[0m \u001b[32m44.7/44.7 MB\u001b[0m \u001b[31m17.4 MB/s\u001b[0m eta \u001b[36m0:00:00\u001b[0m\n",
            "\u001b[2K   \u001b[90m━━━━━━━━━━━━━━━━━━━━━━━━━━━━━━━━━━━━━━━━\u001b[0m \u001b[32m2.0/2.0 MB\u001b[0m \u001b[31m41.9 MB/s\u001b[0m eta \u001b[36m0:00:00\u001b[0m\n",
            "\u001b[2K   \u001b[90m━━━━━━━━━━━━━━━━━━━━━━━━━━━━━━━━━━━━━━━━\u001b[0m \u001b[32m51.2/51.2 MB\u001b[0m \u001b[31m11.6 MB/s\u001b[0m eta \u001b[36m0:00:00\u001b[0m\n",
            "\u001b[?25hinstalling cirq...\n",
            "\u001b[2K   \u001b[90m━━━━━━━━━━━━━━━━━━━━━━━━━━━━━━━━━━━━━━━━\u001b[0m \u001b[32m670.8/670.8 kB\u001b[0m \u001b[31m15.4 MB/s\u001b[0m eta \u001b[36m0:00:00\u001b[0m\n",
            "\u001b[2K   \u001b[90m━━━━━━━━━━━━━━━━━━━━━━━━━━━━━━━━━━━━━━━━\u001b[0m \u001b[32m73.5/73.5 kB\u001b[0m \u001b[31m5.5 MB/s\u001b[0m eta \u001b[36m0:00:00\u001b[0m\n",
            "\u001b[2K   \u001b[90m━━━━━━━━━━━━━━━━━━━━━━━━━━━━━━━━━━━━━━━━\u001b[0m \u001b[32m430.5/430.5 kB\u001b[0m \u001b[31m21.8 MB/s\u001b[0m eta \u001b[36m0:00:00\u001b[0m\n",
            "\u001b[2K   \u001b[90m━━━━━━━━━━━━━━━━━━━━━━━━━━━━━━━━━━━━━━━━\u001b[0m \u001b[32m2.8/2.8 MB\u001b[0m \u001b[31m72.3 MB/s\u001b[0m eta \u001b[36m0:00:00\u001b[0m\n",
            "\u001b[?25hinstalled cirq.\n",
            "Libraries Successfully Imported\n"
          ]
        }
      ],
      "source": [
        "import random\n",
        "import matplotlib.pyplot as plt\n",
        "import numpy as np\n",
        "import sympy\n",
        "\n",
        "from math import radians, degrees\n",
        "from scipy.optimize import minimize\n",
        "\n",
        "try:\n",
        "  from openfermionpyscf import run_pyscf\n",
        "  from openfermion.transforms import jordan_wigner\n",
        "  from openfermion.linalg import get_sparse_operator\n",
        "  from openfermion import MolecularData\n",
        "except ImportError:\n",
        "  !pip install openfermion openfermionpyscf  --quiet\n",
        "  from openfermionpyscf import run_pyscf\n",
        "  from openfermion.transforms import jordan_wigner\n",
        "  from openfermion.linalg import get_sparse_operator\n",
        "  from openfermion import MolecularData\n",
        "\n",
        "def binary_labels(num_qubits):\n",
        "    return [bin(x)[2:].zfill(num_qubits) for x in range(2 ** num_qubits)]\n",
        "plt.rcParams.update({'font.size': 8})\n",
        "\n",
        "try:\n",
        "    import cirq\n",
        "    from cirq_web import bloch_sphere\n",
        "    from cirq import Z, PauliSum\n",
        "except ImportError:\n",
        "    print(\"installing cirq...\")\n",
        "    !pip install cirq --quiet\n",
        "    !pip install cirq-web --quiet\n",
        "    import cirq\n",
        "    from cirq_web import bloch_sphere\n",
        "    from cirq import Z, PauliSum\n",
        "\n",
        "    print(\"installed cirq.\")\n",
        "\n",
        "\n",
        "import warnings\n",
        "warnings.filterwarnings(\"ignore\")\n",
        "\n",
        "\n",
        "print(\"Libraries Successfully Imported\")"
      ]
    },
    {
      "cell_type": "markdown",
      "metadata": {
        "id": "cZNgFdxwfK1B"
      },
      "source": [
        "---\n",
        "## **Part 1.1: Finding the Structure of a Molecule**\n",
        "---\n",
        "\n",
        "In this section, we will use VQE to determine the structure of the hydrogen molecule $H_2$. First initalize Hydrogen Molecule"
      ]
    },
    {
      "cell_type": "code",
      "execution_count": 3,
      "metadata": {
        "id": "r_TON4SlgKwz"
      },
      "outputs": [],
      "source": [
        "# Step 1: Define H₂ molecule\n",
        "geometry = [(\"H\", (0, 0, 0)), (\"H\", (0, 0, 0.735))]\n",
        "molecule = MolecularData(geometry, basis='sto-3g', multiplicity=1, charge=0)\n",
        "molecule = run_pyscf(molecule, run_scf=True, run_fci=True)\n",
        "\n",
        "fermionic_ham = molecule.get_molecular_hamiltonian()\n",
        "qubit_ham = jordan_wigner(fermionic_ham)\n",
        "H_sparse = get_sparse_operator(qubit_ham)  # Automatically uses all 4 qubits"
      ]
    },
    {
      "cell_type": "markdown",
      "metadata": {
        "id": "T2X570_rgwu9"
      },
      "source": [
        "### **Setting Up VQE Ansatz**\n",
        "\n",
        "**Independently**, set up the Ansatz for VQE. Specifically, create:\n",
        "* 4 qubits (2 for the electrons in H2, and 2 for the protons in H2)\n",
        "* x-rotation gates on all qubits\n",
        "* Cnot gates between qubit 1 and 2, and a CNOT gate between qubit 3 and 4"
      ]
    },
    {
      "cell_type": "code",
      "source": [
        "\n",
        "# Build a 4-qubit ansatz\n",
        "qubits = cirq.LineQubit.range(4)\n",
        "symbols = [sympy.Symbol(f'theta_{i}') for i in range(4)]\n",
        "\n",
        "### Write your code here ####\n",
        "circuit = cirq.Circuit()\n",
        "for i in range(4):\n",
        "    circuit.append(cirq.rx(symbols[i])(qubits[i]))\n",
        "for i in range(3):\n",
        "    circuit.append(cirq.CZ(qubits[i], qubits[i + 1]))\n"
      ],
      "metadata": {
        "id": "tmMcMvQ81t3o"
      },
      "execution_count": 4,
      "outputs": []
    },
    {
      "cell_type": "markdown",
      "source": [
        "### **Set up VQE simulator**\n",
        "\n",
        "Now, we will set up the Ansatz for VQE. Specifically, create:\n",
        "* Initilize the cirq simulator\n",
        "* create a function called expectation value and use the simulator to get results from your circuit\n",
        "* convert the final results into a state vector (check out the cheatsheet)"
      ],
      "metadata": {
        "id": "fwKRMjAp2X5B"
      }
    },
    {
      "cell_type": "code",
      "execution_count": 7,
      "metadata": {
        "id": "UYr4zND2hQY8"
      },
      "outputs": [],
      "source": [
        "# Expectation value function\n",
        "sim = cirq.Simulator()\n",
        "\n",
        "def expectation(params):\n",
        "    resolver = cirq.ParamResolver({str(symbols[i]): params[i] for i in range(4)})\n",
        "    result = sim.simulate(circuit, resolver)\n",
        "    psi = result.final_state_vector ### convert the results into a state vector\n",
        "    return np.real(psi.conj().T @ (H_sparse @ psi))  # shape-matched matmul"
      ]
    },
    {
      "cell_type": "markdown",
      "source": [
        "Finally, use a classical minimizer to optimize the parameters of your rotation gates, so that you get the minimum energy value"
      ],
      "metadata": {
        "id": "2gKtvJn820bH"
      }
    },
    {
      "cell_type": "code",
      "execution_count": 8,
      "metadata": {
        "id": "KAsarK38iifb",
        "colab": {
          "base_uri": "https://localhost:8080/"
        },
        "outputId": "91c92778-bfb3-4a3a-a64e-72097f2d3927"
      },
      "outputs": [
        {
          "output_type": "stream",
          "name": "stdout",
          "text": [
            "VQE Total energy = -1.1169990645917947\n"
          ]
        }
      ],
      "source": [
        "x0 = np.random.uniform(0, 2*np.pi, 4)\n",
        "res = minimize(expectation, x0=x0, method='COBYLA', options={'maxiter': 300})\n",
        "\n",
        "print(\"VQE Total energy =\", res.fun)"
      ]
    },
    {
      "cell_type": "markdown",
      "metadata": {
        "id": "VWQv_i2YjOnQ"
      },
      "source": [
        "Unlike the knapsack problem, it's difficult for us to determine if this solution is correct just by looking at it. So, let's use an exact solver that is guaranteed to give us the correct answer."
      ]
    },
    {
      "cell_type": "code",
      "execution_count": 9,
      "metadata": {
        "id": "D3X99JLJhPRf",
        "colab": {
          "base_uri": "https://localhost:8080/"
        },
        "outputId": "332f1bf0-78e0-4e17-b3bb-1b54bd778781"
      },
      "outputs": [
        {
          "output_type": "stream",
          "name": "stdout",
          "text": [
            "Total energy = -1.1373060357534002\n"
          ]
        }
      ],
      "source": [
        "# Assuming fermionic_ham is already defined and jordan_wigner() applied:\n",
        "qubit_ham = jordan_wigner(fermionic_ham)\n",
        "\n",
        "# Convert to sparse matrix representation\n",
        "H_sparse = get_sparse_operator(qubit_ham)  # full matrix for all required qubits\n",
        "\n",
        "# Convert to dense matrix (for exact diagonalization)\n",
        "H_dense = H_sparse.toarray()\n",
        "\n",
        "# Diagonalize the Hamiltonian\n",
        "eigenvalues, eigenvectors = np.linalg.eigh(H_dense)\n",
        "\n",
        "# Ground state energy = lowest eigenvalue\n",
        "ground_energy = eigenvalues[0]\n",
        "\n",
        "print(\"Total energy =\", ground_energy)"
      ]
    },
    {
      "cell_type": "code",
      "execution_count": 10,
      "metadata": {
        "id": "sd7qiAkYjUnR",
        "colab": {
          "base_uri": "https://localhost:8080/"
        },
        "outputId": "da709d2f-36ea-4ca2-b5d0-24bca92bcea8"
      },
      "outputs": [
        {
          "output_type": "stream",
          "name": "stdout",
          "text": [
            "% Error = 1.7855 %\n"
          ]
        }
      ],
      "source": [
        "error_percent = (ground_energy - res.fun) / ground_energy * 100\n",
        "print(f\"% Error = {error_percent:.4f} %\")"
      ]
    },
    {
      "cell_type": "markdown",
      "metadata": {
        "id": "DFD1BGtXj0Wm"
      },
      "source": [
        "## **Part 1.2: Finding the Optimal Distance of a Molecule**\n",
        "\n",
        "We just learned how to calculate the molecule ground state for a given bond length. Now, let's find the energies for many distances between these two hydrogen atoms, and in the process, find the lowest possible energy. The distance at which we get the lowest energy corresponds to the ground state (ideal) bond length of the hydrogen molecule!\n",
        "\n",
        "**Run the cells below to setup this problem and then calculate the energies for each distance using both exact and VQE solvers.**"
      ]
    },
    {
      "cell_type": "code",
      "source": [
        "# Step 1: Bond distances\n",
        "bond_distances = np.linspace(0.2, 2.5, 12)\n",
        "vqe_energies = []\n",
        "exact_energies = []\n",
        "\n",
        "for dist in bond_distances:\n",
        "    print(f\"\\nSimulating H₂ at bond length = {dist:.2f} Å\")\n",
        "\n",
        "    # Step 2: Build molecule\n",
        "    geometry = [(\"H\", (0, 0, 0)), (\"H\", (0, 0, dist))]\n",
        "    molecule = MolecularData(geometry, basis='sto-3g', multiplicity=1, charge=0)\n",
        "    molecule = run_pyscf(molecule, run_scf=True, run_fci=True)\n",
        "\n",
        "    # Step 3: Hamiltonian\n",
        "    fermionic_ham = molecule.get_molecular_hamiltonian()\n",
        "    qubit_ham = jordan_wigner(fermionic_ham)\n",
        "    H_sparse = get_sparse_operator(qubit_ham)\n",
        "\n",
        "    # Step 4: Setup ansatz and qubits\n",
        "    n_qubits = int(np.log2(H_sparse.shape[0]))\n",
        "    qubits = cirq.LineQubit.range(n_qubits)\n",
        "    symbols = [sympy.Symbol(f'theta_{i}') for i in range(n_qubits)]\n",
        "    circuit = cirq.Circuit()\n",
        "    for i in range(n_qubits):\n",
        "        circuit.append(cirq.rx(symbols[i])(qubits[i]))\n",
        "    for i in range(n_qubits - 1):\n",
        "        circuit.append(cirq.CZ(qubits[i], qubits[i + 1]))\n",
        "\n",
        "    simulator = cirq.Simulator()\n",
        "\n",
        "    def expectation(params):\n",
        "        resolver = cirq.ParamResolver({str(symbols[i]): params[i] for i in range(len(symbols))})\n",
        "        result = simulator.simulate(circuit, resolver)\n",
        "        psi = result.final_state_vector\n",
        "        return np.real(psi.conj().T @ (H_sparse @ psi))\n",
        "\n",
        "    # Step 5: Run VQE\n",
        "    x0 = np.random.uniform(0, 2 * np.pi, len(symbols))\n",
        "    res = minimize(expectation, x0=x0, method='COBYLA', options={'maxiter': 1000})\n",
        "    vqe_energies.append(res.fun)\n",
        "\n",
        "    H_sparse = get_sparse_operator(qubit_ham)\n",
        "    H_dense = H_sparse.toarray()\n",
        "    eigvals, _ = np.linalg.eigh(H_dense)\n",
        "    exact_energies.append(eigvals[0])\n",
        "\n",
        "# Step 6: Plot\n",
        "plt.plot(bond_distances, vqe_energies, label='VQE Energy', marker='x')\n",
        "plt.xlabel('Bond Length (Å)')\n",
        "plt.ylabel('Energy (Hartree)')\n",
        "plt.title('H₂ Potential Energy Curve')\n",
        "plt.legend()\n",
        "plt.grid(True)\n",
        "plt.tight_layout()\n",
        "plt.show()\n"
      ],
      "metadata": {
        "id": "QBJAL6dJyp_z",
        "colab": {
          "base_uri": "https://localhost:8080/",
          "height": 910
        },
        "outputId": "d0f5422d-135b-4539-d0be-6fcbf1011db8"
      },
      "execution_count": 11,
      "outputs": [
        {
          "output_type": "stream",
          "name": "stdout",
          "text": [
            "\n",
            "Simulating H₂ at bond length = 0.20 Å\n",
            "\n",
            "Simulating H₂ at bond length = 0.41 Å\n",
            "\n",
            "Simulating H₂ at bond length = 0.62 Å\n",
            "\n",
            "Simulating H₂ at bond length = 0.83 Å\n",
            "\n",
            "Simulating H₂ at bond length = 1.04 Å\n",
            "\n",
            "Simulating H₂ at bond length = 1.25 Å\n",
            "\n",
            "Simulating H₂ at bond length = 1.45 Å\n",
            "\n",
            "Simulating H₂ at bond length = 1.66 Å\n",
            "\n",
            "Simulating H₂ at bond length = 1.87 Å\n",
            "\n",
            "Simulating H₂ at bond length = 2.08 Å\n",
            "\n",
            "Simulating H₂ at bond length = 2.29 Å\n",
            "\n",
            "Simulating H₂ at bond length = 2.50 Å\n"
          ]
        },
        {
          "output_type": "display_data",
          "data": {
            "text/plain": [
              "<Figure size 640x480 with 1 Axes>"
            ],
            "image/png": "[encoded data removed]"
          },
          "metadata": {}
        }
      ]
    },
    {
      "cell_type": "markdown",
      "source": [
        "Now lets use linear algebra to manually calcualte the energies at each bond-length. This is basically finding eigenstates from the Hamiltonian matrix."
      ],
      "metadata": {
        "id": "It4SGC0azRVF"
      }
    },
    {
      "cell_type": "code",
      "execution_count": 12,
      "metadata": {
        "id": "UIQ4VTKoj9tq",
        "colab": {
          "base_uri": "https://localhost:8080/"
        },
        "outputId": "770bacc8-b0fd-4372-8837-21d41fbf4e5e"
      },
      "outputs": [
        {
          "output_type": "stream",
          "name": "stdout",
          "text": [
            "\n",
            "Solving H₂ at bond length = 0.20 Å\n",
            "\n",
            "Solving H₂ at bond length = 0.41 Å\n",
            "\n",
            "Solving H₂ at bond length = 0.62 Å\n",
            "\n",
            "Solving H₂ at bond length = 0.83 Å\n",
            "\n",
            "Solving H₂ at bond length = 1.04 Å\n",
            "\n",
            "Solving H₂ at bond length = 1.25 Å\n",
            "\n",
            "Solving H₂ at bond length = 1.45 Å\n",
            "\n",
            "Solving H₂ at bond length = 1.66 Å\n",
            "\n",
            "Solving H₂ at bond length = 1.87 Å\n",
            "\n",
            "Solving H₂ at bond length = 2.08 Å\n",
            "\n",
            "Solving H₂ at bond length = 2.29 Å\n",
            "\n",
            "Solving H₂ at bond length = 2.50 Å\n"
          ]
        }
      ],
      "source": [
        "bond_distances = np.linspace(0.2, 2.5, 12)\n",
        "exact_energies = []\n",
        "\n",
        "### Calculate exact energies\n",
        "for dist in bond_distances:\n",
        "    # Step 3: Build molecule\n",
        "    geometry = [(\"H\", (0, 0, 0)), (\"H\", (0, 0, dist))]\n",
        "    molecule = MolecularData(geometry, basis='sto-3g', multiplicity=1, charge=0)\n",
        "    molecule = run_pyscf(molecule, run_scf=True, run_fci=True)\n",
        "\n",
        "    # Step 4: Hamiltonian\n",
        "    fermionic_ham = molecule.get_molecular_hamiltonian()\n",
        "    qubit_ham = jordan_wigner(fermionic_ham)\n",
        "    H_sparse = get_sparse_operator(qubit_ham)\n",
        "    H_dense = H_sparse.toarray()\n",
        "    eigvals, _ = np.linalg.eigh(H_dense)\n",
        "    exact_energies.append(eigvals[0])\n",
        "    print(f\"\\nSolving H₂ at bond length = {dist:.2f} Å\")\n"
      ]
    },
    {
      "cell_type": "markdown",
      "metadata": {
        "id": "I2oRNJhykYBZ"
      },
      "source": [
        "#### **Finally, lets plot our VQE data on top of the exact solution and see how they compare**"
      ]
    },
    {
      "cell_type": "code",
      "execution_count": 13,
      "metadata": {
        "id": "dE_up2QekFUd",
        "colab": {
          "base_uri": "https://localhost:8080/",
          "height": 493
        },
        "outputId": "b26d12f3-3ca0-4695-ef1f-bc5f7af3ffc8"
      },
      "outputs": [
        {
          "output_type": "display_data",
          "data": {
            "text/plain": [
              "<Figure size 640x480 with 1 Axes>"
            ],
            "image/png": "[encoded data removed]"
          },
          "metadata": {}
        }
      ],
      "source": [
        "plt.plot(bond_distances, exact_energies, label='Exact FCI Energy', marker='o')\n",
        "plt.plot(bond_distances, vqe_energies, label='VQE Energy', marker='x')\n",
        "plt.xlabel('Bond Length (Å)')\n",
        "plt.ylabel('Energy (Hartree)')\n",
        "plt.title('H₂ Potential Energy Curve')\n",
        "plt.legend()\n",
        "plt.grid(True)\n",
        "plt.tight_layout()\n",
        "plt.show()\n"
      ]
    },
    {
      "cell_type": "markdown",
      "source": [
        "## **Finding the Optimal Distance of HF Molecule**\n",
        "\n",
        "We just simulated the ground state energies of H2! Now try extending this to other molecules\n",
        "\n",
        "**Setup problem for HF, then calculate the energies for each distance using both exact and VQE solvers.**"
      ],
      "metadata": {
        "id": "y-fHNupL9xEt"
      }
    },
    {
      "cell_type": "code",
      "execution_count": 16,
      "metadata": {
        "colab": {
          "base_uri": "https://localhost:8080/",
          "height": 736
        },
        "id": "h2cI2iHNpsFq",
        "outputId": "77b7caf4-648a-4ad7-e4ef-efd661f3db09"
      },
      "outputs": [
        {
          "output_type": "stream",
          "name": "stdout",
          "text": [
            "\n",
            "Simulating HF at bond length = 0.60 Å\n",
            "\n",
            "Simulating HF at bond length = 0.87 Å\n",
            "\n",
            "Simulating HF at bond length = 1.13 Å\n",
            "\n",
            "Simulating HF at bond length = 1.40 Å\n",
            "\n",
            "Simulating HF at bond length = 1.67 Å\n",
            "\n",
            "Simulating HF at bond length = 1.93 Å\n",
            "\n",
            "Simulating HF at bond length = 2.20 Å\n"
          ]
        },
        {
          "output_type": "display_data",
          "data": {
            "text/plain": [
              "<Figure size 640x480 with 1 Axes>"
            ],
            "image/png": "[encoded data removed]"
          },
          "metadata": {}
        }
      ],
      "source": [
        "# HF bond lengths to scan (in Angstroms)\n",
        "bond_distances = np.linspace(0.6, 2.2, 7)\n",
        "vqe_energies = []\n",
        "exact_energies = []\n",
        "\n",
        "for dist in bond_distances:\n",
        "    print(f\"\\nSimulating HF at bond length = {dist:.2f} Å\")\n",
        "\n",
        "    # Step 1: Define HF molecule (linear)\n",
        "    geometry = [(\"H\", (0, 0, 0)), (\"F\", (0, 0, dist))]\n",
        "\n",
        "    molecule = MolecularData(\n",
        "        geometry=geometry,\n",
        "        basis='sto-3g',\n",
        "        multiplicity=1,\n",
        "        charge=0,\n",
        "        description=f\"{dist:.2f}A\"\n",
        "    )\n",
        "\n",
        "    # Step 2: Freeze core and reduce orbitals. This makes it easier for VQE to solve\n",
        "    molecule.active_space_start = 1   # skip 1s of F\n",
        "    molecule.active_space_stop = 3    # 2 orbitals (lowest virtual)\n",
        "    molecule.n_active_electrons = 2   # focus on bonding electrons\n",
        "\n",
        "    molecule = run_pyscf(molecule, run_scf=True, run_fci=True)\n",
        "\n",
        "    # Step 3: Transform to qubit Hamiltonian\n",
        "    fermionic_ham = molecule.get_molecular_hamiltonian()\n",
        "    qubit_ham = jordan_wigner(fermionic_ham)\n",
        "    H_sparse = get_sparse_operator(qubit_ham)\n",
        "\n",
        "\n",
        "    # Step 4: Setup qubits and circuit\n",
        "    n_qubits = int(np.log2(H_sparse.shape[0]))\n",
        "    qubits = cirq.LineQubit.range(n_qubits)\n",
        "    symbols = [sympy.Symbol(f\"theta_{i}\") for i in range(n_qubits)]\n",
        "\n",
        "    circuit = cirq.Circuit()\n",
        "\n",
        "    for i in range(n_qubits):\n",
        "        circuit.append(cirq.rx(symbols[i])(qubits[i]))\n",
        "\n",
        "    for i in range(n_qubits - 1):\n",
        "        circuit.append(cirq.CZ(qubits[i], qubits[i + 1]))\n",
        "\n",
        "\n",
        "    # Step 5: Expectation function\n",
        "    sim = cirq.Simulator()\n",
        "    def expectation(params):\n",
        "        resolver = cirq.ParamResolver({str(symbols[i]): params[i] for i in range(len(symbols))})\n",
        "        result = sim.simulate(circuit, resolver)\n",
        "        psi = result.final_state_vector\n",
        "        return np.real(psi.conj().T @ (H_sparse @ psi))\n",
        "\n",
        "    # Step 6: VQE\n",
        "    x0 = np.random.uniform(0, 2*np.pi, len(symbols))\n",
        "    result = minimize(expectation, x0=x0, method='COBYLA', options={'maxiter': 200})\n",
        "    vqe_energies.append(result.fun)\n",
        "\n",
        "\n",
        "# Step 8: Plot\n",
        "plt.plot(bond_distances, vqe_energies, label='VQE Energy', marker='x')\n",
        "plt.xlabel('Bond Length (Å)')\n",
        "plt.ylabel('Energy (Hartree)')\n",
        "plt.title('HF Potential Energy Curve')\n",
        "plt.legend()\n",
        "plt.grid(True)\n",
        "plt.tight_layout()\n",
        "plt.show()"
      ]
    },
    {
      "cell_type": "markdown",
      "source": [
        "## Now use the exact solver to calculate the energy levels. Remember, it is using large matrix multiplications"
      ],
      "metadata": {
        "id": "HzJbpCFA-mQl"
      }
    },
    {
      "cell_type": "code",
      "execution_count": 17,
      "metadata": {
        "id": "75NVUmNdp0Kd",
        "colab": {
          "base_uri": "https://localhost:8080/"
        },
        "outputId": "d724b2d1-27d9-444c-fa99-6970208783f8"
      },
      "outputs": [
        {
          "output_type": "stream",
          "name": "stdout",
          "text": [
            "\n",
            "Solving H₂ at bond length = 0.20 Å\n",
            "\n",
            "Solving H₂ at bond length = 0.41 Å\n",
            "\n",
            "Solving H₂ at bond length = 0.62 Å\n",
            "\n",
            "Solving H₂ at bond length = 0.83 Å\n",
            "\n",
            "Solving H₂ at bond length = 1.04 Å\n",
            "\n",
            "Solving H₂ at bond length = 1.25 Å\n",
            "\n",
            "Solving H₂ at bond length = 1.45 Å\n",
            "\n",
            "Solving H₂ at bond length = 1.66 Å\n",
            "\n",
            "Solving H₂ at bond length = 1.87 Å\n",
            "\n",
            "Solving H₂ at bond length = 2.08 Å\n",
            "\n",
            "Solving H₂ at bond length = 2.29 Å\n",
            "\n",
            "Solving H₂ at bond length = 2.50 Å\n"
          ]
        }
      ],
      "source": [
        "bond_distances = np.linspace(0.2, 2.5, 12)\n",
        "exact_energies = []\n",
        "\n",
        "### Calculate exact energies\n",
        "for dist in bond_distances:\n",
        "    # Step 3: Build molecule\n",
        "    geometry = [(\"H\", (0, 0, 0)), (\"F\", (0, 0, dist))]\n",
        "    molecule = MolecularData(geometry, basis='sto-3g', multiplicity=1, charge=0)\n",
        "    molecule = run_pyscf(molecule, run_scf=True, run_fci=True)\n",
        "\n",
        "    # Step 4: Hamiltonian\n",
        "    fermionic_ham = molecule.get_molecular_hamiltonian()\n",
        "    qubit_ham = jordan_wigner(fermionic_ham)\n",
        "    H_sparse = get_sparse_operator(qubit_ham)\n",
        "    H_dense = H_sparse.toarray()\n",
        "    eigvals, _ = np.linalg.eigh(H_dense)\n",
        "    exact_energies.append(eigvals[0])\n",
        "    print(f\"\\nSolving H₂ at bond length = {dist:.2f} Å\")\n"
      ]
    },
    {
      "cell_type": "markdown",
      "source": [
        "## Observations: Runtime of about 30 minutes, and seems like the exact solver can't even compute it anymore! The hamiltonian of our system is much larger because of the Fluorine atom. This makes it difficult for classical solvers"
      ],
      "metadata": {
        "id": "srpNbzip-ye_"
      }
    },
    {
      "cell_type": "markdown",
      "metadata": {
        "id": "7dzC09dLlEhm"
      },
      "source": [
        "#End of notebook\n",
        "---\n",
        "© 2024 The Coding School, All rights reserved"
      ]
    }
  ],
  "metadata": {
    "colab": {
      "provenance": []
    },
    "kernelspec": {
      "display_name": "Python 3",
      "name": "python3"
    },
    "language_info": {
      "name": "python"
    }
  },
  "nbformat": 4,
  "nbformat_minor": 0
}